{
  "nbformat": 4,
  "nbformat_minor": 0,
  "metadata": {
    "colab": {
      "name": "luna.ipynb",
      "provenance": [],
      "collapsed_sections": [],
      "authorship_tag": "ABX9TyOi5qEP5G7zIkj58vAxJJn2",
      "include_colab_link": true
    },
    "kernelspec": {
      "name": "python3",
      "display_name": "Python 3"
    },
    "language_info": {
      "name": "python"
    }
  },
  "cells": [
    {
      "cell_type": "markdown",
      "metadata": {
        "id": "view-in-github",
        "colab_type": "text"
      },
      "source": [
        "<a href=\"https://colab.research.google.com/github/raffaelepojer/DeepLearningAssignment/blob/DL_luna/luna.ipynb\" target=\"_parent\"><img src=\"https://colab.research.google.com/assets/colab-badge.svg\" alt=\"Open In Colab\"/></a>"
      ]
    },
    {
      "cell_type": "markdown",
      "metadata": {
        "id": "o6qVu3yRaYv8"
      },
      "source": [
        "# Accessing the dataset"
      ]
    },
    {
      "cell_type": "code",
      "metadata": {
        "colab": {
          "base_uri": "https://localhost:8080/"
        },
        "id": "wAL3hQ8oaOe0",
        "outputId": "e765294f-8e39-4b52-b2b6-b7fc3eb62acd"
      },
      "source": [
        "from google.colab import drive\n",
        "\n",
        "drive.mount(\"/content/gdrive\")\n",
        "\n",
        "%cd /content/gdrive/MyDrive/dataset_elisa"
      ],
      "execution_count": 1,
      "outputs": [
        {
          "output_type": "stream",
          "text": [
            "Mounted at /content/gdrive\n",
            "/content/gdrive/MyDrive/dataset_elisa\n"
          ],
          "name": "stdout"
        }
      ]
    },
    {
      "cell_type": "markdown",
      "metadata": {
        "id": "cosPyYuPaTrn"
      },
      "source": [
        "# Start importing the dataset in pytorch"
      ]
    },
    {
      "cell_type": "code",
      "metadata": {
        "id": "wfuN0JlzafJF"
      },
      "source": [
        "import torch\n",
        "from torch.utils.data import Dataset\n",
        "from torchvision import datasets\n",
        "from torchvision.transforms import ToTensor\n",
        "import matplotlib.pyplot as plt\n",
        "import pandas as pd\n",
        "\n",
        "import os\n",
        "from torchvision.io import read_image\n",
        "from torch.utils.data import DataLoader"
      ],
      "execution_count": 2,
      "outputs": []
    },
    {
      "cell_type": "markdown",
      "metadata": {
        "id": "m-LYJS7B7-4w"
      },
      "source": [
        "# Preliminary checks"
      ]
    },
    {
      "cell_type": "code",
      "metadata": {
        "colab": {
          "base_uri": "https://localhost:8080/",
          "height": 101
        },
        "id": "4_QE0nSwGhFS",
        "outputId": "04d81a36-42c7-4108-a789-280b1edb469e"
      },
      "source": [
        "df = pd.read_csv('annotations_train.csv')\n",
        "tmp = df.iloc[df.index[df['id'] == 9], 1:]\n",
        "tmp"
      ],
      "execution_count": 18,
      "outputs": [
        {
          "output_type": "execute_result",
          "data": {
            "text/html": [
              "<div>\n",
              "<style scoped>\n",
              "    .dataframe tbody tr th:only-of-type {\n",
              "        vertical-align: middle;\n",
              "    }\n",
              "\n",
              "    .dataframe tbody tr th {\n",
              "        vertical-align: top;\n",
              "    }\n",
              "\n",
              "    .dataframe thead th {\n",
              "        text-align: right;\n",
              "    }\n",
              "</style>\n",
              "<table border=\"1\" class=\"dataframe\">\n",
              "  <thead>\n",
              "    <tr style=\"text-align: right;\">\n",
              "      <th></th>\n",
              "      <th>age</th>\n",
              "      <th>backpack</th>\n",
              "      <th>bag</th>\n",
              "      <th>handbag</th>\n",
              "      <th>clothes</th>\n",
              "      <th>down</th>\n",
              "      <th>up</th>\n",
              "      <th>hair</th>\n",
              "      <th>hat</th>\n",
              "      <th>gender</th>\n",
              "      <th>upblack</th>\n",
              "      <th>upwhite</th>\n",
              "      <th>upred</th>\n",
              "      <th>uppurple</th>\n",
              "      <th>upyellow</th>\n",
              "      <th>upgray</th>\n",
              "      <th>upblue</th>\n",
              "      <th>upgreen</th>\n",
              "      <th>downblack</th>\n",
              "      <th>downwhite</th>\n",
              "      <th>downpink</th>\n",
              "      <th>downpurple</th>\n",
              "      <th>downyellow</th>\n",
              "      <th>downgray</th>\n",
              "      <th>downblue</th>\n",
              "      <th>downgreen</th>\n",
              "      <th>downbrown</th>\n",
              "    </tr>\n",
              "  </thead>\n",
              "  <tbody>\n",
              "    <tr>\n",
              "      <th>233</th>\n",
              "      <td>2</td>\n",
              "      <td>1</td>\n",
              "      <td>1</td>\n",
              "      <td>1</td>\n",
              "      <td>2</td>\n",
              "      <td>2</td>\n",
              "      <td>2</td>\n",
              "      <td>1</td>\n",
              "      <td>1</td>\n",
              "      <td>1</td>\n",
              "      <td>1</td>\n",
              "      <td>1</td>\n",
              "      <td>1</td>\n",
              "      <td>1</td>\n",
              "      <td>1</td>\n",
              "      <td>2</td>\n",
              "      <td>1</td>\n",
              "      <td>1</td>\n",
              "      <td>1</td>\n",
              "      <td>1</td>\n",
              "      <td>1</td>\n",
              "      <td>1</td>\n",
              "      <td>1</td>\n",
              "      <td>2</td>\n",
              "      <td>1</td>\n",
              "      <td>1</td>\n",
              "      <td>1</td>\n",
              "    </tr>\n",
              "  </tbody>\n",
              "</table>\n",
              "</div>"
            ],
            "text/plain": [
              "     age  backpack  bag  handbag  ...  downgray  downblue  downgreen  downbrown\n",
              "233    2         1    1        1  ...         2         1          1          1\n",
              "\n",
              "[1 rows x 27 columns]"
            ]
          },
          "metadata": {
            "tags": []
          },
          "execution_count": 18
        }
      ]
    },
    {
      "cell_type": "code",
      "metadata": {
        "colab": {
          "base_uri": "https://localhost:8080/",
          "height": 297
        },
        "id": "P23YT0gzakvl",
        "outputId": "40e42661-f7e3-43ad-e0b5-31df9800f3f5"
      },
      "source": [
        "fig, axes = plt.subplots(nrows=2, ncols=2)\n",
        "# Age and gender\n",
        "df['age'].value_counts().plot(ax=axes[0,0], kind = 'bar', title = 'Age')\n",
        "df['gender'].value_counts().plot(ax=axes[0,1], kind = 'bar', title = 'Gender')\n",
        "# Head features\n",
        "df['hair'].value_counts().plot(ax=axes[1,0], kind = 'bar', title = 'Hair')\n",
        "df['hat'].value_counts().plot(ax=axes[1,1], kind = 'bar', title = 'Hat')\n"
      ],
      "execution_count": 12,
      "outputs": [
        {
          "output_type": "execute_result",
          "data": {
            "text/plain": [
              "<matplotlib.axes._subplots.AxesSubplot at 0x7fedd7debc90>"
            ]
          },
          "metadata": {
            "tags": []
          },
          "execution_count": 12
        },
        {
          "output_type": "display_data",
          "data": {
            "image/png": "[encoded data removed]",
            "text/plain": [
              "<Figure size 432x288 with 4 Axes>"
            ]
          },
          "metadata": {
            "tags": [],
            "needs_background": "light"
          }
        }
      ]
    },
    {
      "cell_type": "code",
      "metadata": {
        "colab": {
          "base_uri": "https://localhost:8080/",
          "height": 297
        },
        "id": "pUpfgM5pE0Ax",
        "outputId": "215fab28-7864-4b26-b204-67410c85fd6f"
      },
      "source": [
        "fig, axes = plt.subplots(nrows=2, ncols=2)\n",
        "# General features\n",
        "df['backpack'].value_counts().plot(ax=axes[0,0], kind = 'bar', title = 'Backpack')\n",
        "df['bag'].value_counts().plot(ax=axes[0,1], kind = 'bar', title = 'Bag')\n",
        "df['handbag'].value_counts().plot(ax=axes[1,0], kind = 'bar', title = 'Handbag')\n",
        "df['clothes'].value_counts().plot(ax=axes[1,1], kind = 'bar', title = 'Clothes')"
      ],
      "execution_count": 13,
      "outputs": [
        {
          "output_type": "execute_result",
          "data": {
            "text/plain": [
              "<matplotlib.axes._subplots.AxesSubplot at 0x7fedd7cba890>"
            ]
          },
          "metadata": {
            "tags": []
          },
          "execution_count": 13
        },
        {
          "output_type": "display_data",
          "data": {
            "image/png": "[encoded data removed]",
            "text/plain": [
              "<Figure size 432x288 with 4 Axes>"
            ]
          },
          "metadata": {
            "tags": [],
            "needs_background": "light"
          }
        }
      ]
    },
    {
      "cell_type": "code",
      "metadata": {
        "colab": {
          "base_uri": "https://localhost:8080/",
          "height": 297
        },
        "id": "Z_5b4v4QFJT9",
        "outputId": "25b997d1-74a6-435f-8725-ec03ba07c7ae"
      },
      "source": [
        "fig, axes = plt.subplots(nrows=2, ncols=2)\n",
        "# Upper clothing color\n",
        "df['upblack'].value_counts().plot(ax=axes[0,0], kind = 'bar', title = 'Upblack')\n",
        "df['upwhite'].value_counts().plot(ax=axes[0,1], kind = 'bar', title = 'Upwhite')\n",
        "df['upred'].value_counts().plot(ax=axes[1,0], kind = 'bar', title = 'Upred')\n",
        "df['uppurple'].value_counts().plot(ax=axes[1,1], kind = 'bar', title = 'Uppurple')"
      ],
      "execution_count": 14,
      "outputs": [
        {
          "output_type": "execute_result",
          "data": {
            "text/plain": [
              "<matplotlib.axes._subplots.AxesSubplot at 0x7fedd7b8c110>"
            ]
          },
          "metadata": {
            "tags": []
          },
          "execution_count": 14
        },
        {
          "output_type": "display_data",
          "data": {
            "image/png": "[encoded data removed]",
            "text/plain": [
              "<Figure size 432x288 with 4 Axes>"
            ]
          },
          "metadata": {
            "tags": [],
            "needs_background": "light"
          }
        }
      ]
    },
    {
      "cell_type": "code",
      "metadata": {
        "colab": {
          "base_uri": "https://localhost:8080/",
          "height": 297
        },
        "id": "Hdm7B5EkFULq",
        "outputId": "ee58831f-7de5-4ff8-903f-96431b9d76df"
      },
      "source": [
        "fig, axes = plt.subplots(nrows=2, ncols=2)\n",
        "# Cntd\n",
        "df['upyellow'].value_counts().plot(ax=axes[0,0], kind = 'bar', title = 'Upyellow')\n",
        "df['upgray'].value_counts().plot(ax=axes[0,1], kind = 'bar', title = 'Upgray')\n",
        "df['upblue'].value_counts().plot(ax=axes[1,0], kind = 'bar', title = 'Upblue')\n",
        "df['upgreen'].value_counts().plot(ax=axes[1,1], kind = 'bar', title = 'Upgreen')"
      ],
      "execution_count": 15,
      "outputs": [
        {
          "output_type": "execute_result",
          "data": {
            "text/plain": [
              "<matplotlib.axes._subplots.AxesSubplot at 0x7fedd79d6690>"
            ]
          },
          "metadata": {
            "tags": []
          },
          "execution_count": 15
        },
        {
          "output_type": "display_data",
          "data": {
            "image/png": "[encoded data removed]",
            "text/plain": [
              "<Figure size 432x288 with 4 Axes>"
            ]
          },
          "metadata": {
            "tags": [],
            "needs_background": "light"
          }
        }
      ]
    },
    {
      "cell_type": "code",
      "metadata": {
        "colab": {
          "base_uri": "https://localhost:8080/",
          "height": 297
        },
        "id": "sKukg8nDFLZd",
        "outputId": "ca0ba15d-7230-4e77-bd4b-796f0b4a186e"
      },
      "source": [
        "fig, axes = plt.subplots(nrows=2, ncols=2)\n",
        "# Lower clothing color\n",
        "df['downblack'].value_counts().plot(ax=axes[0,0], kind = 'bar', title = 'Downblack')\n",
        "df['downwhite'].value_counts().plot(ax=axes[0,1], kind = 'bar', title = 'Downwhite')\n",
        "df['downpink'].value_counts().plot(ax=axes[1,0], kind = 'bar', title = 'Downpink')\n",
        "df['downpurple'].value_counts().plot(ax=axes[1,1], kind = 'bar', title = 'Downpurple')"
      ],
      "execution_count": 16,
      "outputs": [
        {
          "output_type": "execute_result",
          "data": {
            "text/plain": [
              "<matplotlib.axes._subplots.AxesSubplot at 0x7fedd89480d0>"
            ]
          },
          "metadata": {
            "tags": []
          },
          "execution_count": 16
        },
        {
          "output_type": "display_data",
          "data": {
            "image/png": "[encoded data removed]",
            "text/plain": [
              "<Figure size 432x288 with 4 Axes>"
            ]
          },
          "metadata": {
            "tags": [],
            "needs_background": "light"
          }
        }
      ]
    },
    {
      "cell_type": "code",
      "metadata": {
        "colab": {
          "base_uri": "https://localhost:8080/",
          "height": 300
        },
        "id": "o9Zmo-xVFqne",
        "outputId": "fd225a09-28e7-4598-c807-cd9f0f636813"
      },
      "source": [
        "fig, axes = plt.subplots(nrows=3, ncols=2)\n",
        "# Cntd\n",
        "df['downyellow'].value_counts().plot(ax=axes[0,0], kind = 'bar', title = 'Downyellow')\n",
        "df['downgray'].value_counts().plot(ax=axes[0,1], kind = 'bar', title = 'Downgray')\n",
        "df['downblue'].value_counts().plot(ax=axes[1,0], kind = 'bar', title = 'Downblue')\n",
        "df['downgreen'].value_counts().plot(ax=axes[1,1], kind = 'bar', title = 'Downgreen')\n",
        "df['downbrown'].value_counts().plot(ax=axes[2,0], kind = 'bar', title = 'Downbrown')"
      ],
      "execution_count": 17,
      "outputs": [
        {
          "output_type": "execute_result",
          "data": {
            "text/plain": [
              "<matplotlib.axes._subplots.AxesSubplot at 0x7fedd79339d0>"
            ]
          },
          "metadata": {
            "tags": []
          },
          "execution_count": 17
        },
        {
          "output_type": "display_data",
          "data": {
            "image/png": "[encoded data removed]",
            "text/plain": [
              "<Figure size 432x288 with 6 Axes>"
            ]
          },
          "metadata": {
            "tags": [],
            "needs_background": "light"
          }
        }
      ]
    },
    {
      "cell_type": "code",
      "metadata": {
        "id": "g4XGkSJOanfW"
      },
      "source": [
        "class ElyImageDataset(Dataset):\n",
        "    def __init__(self, annotations_file, img_dir, transform=None, target_transform=None):\n",
        "        self.img_labels = pd.read_csv(annotations_file)\n",
        "        self.img_dir = img_dir\n",
        "\n",
        "        self.imgs = os.listdir(img_dir)\n",
        "        self.img_list = self.imgs\n",
        "\n",
        "        self.imgs = [el for el in self.imgs if os.path.splitext(el)[1] == '.jpg']\n",
        "        self.lb_ids = [int(el.split('_')[0]) for el in self.imgs]\n",
        "        self.lb_cams = [int(el.split('_')[1][1]) for el in self.imgs]\n",
        "        self.imgs = [os.path.join(img_dir, el) for el in self.imgs]\n",
        "\n",
        "        self.transform = transform\n",
        "        self.target_transform = target_transform\n",
        "\n",
        "    def __len__(self):\n",
        "        return len(self.img_labels)\n",
        "\n",
        "    def __getitem__(self, idx):\n",
        "        img_path = os.path.join(self.img_dir, self.img_list[idx])\n",
        "        image = read_image(img_path)\n",
        "        id = self.lb_ids[idx]\n",
        "\n",
        "        label = torch.tensor(self.img_labels.iloc[\n",
        "                                                  self.img_labels.index[self.img_labels['id'] == self.lb_ids[idx]], 1:].values)\n",
        "        if self.transform:\n",
        "            image = self.transform(image)\n",
        "        if self.target_transform:\n",
        "            label = self.target_transform(label)\n",
        "        return image, id, label\n"
      ],
      "execution_count": null,
      "outputs": []
    },
    {
      "cell_type": "code",
      "metadata": {
        "id": "bZoaQHo3arIW"
      },
      "source": [
        "training_data = ElyImageDataset('annotations_train.csv', 'train/')"
      ],
      "execution_count": null,
      "outputs": []
    },
    {
      "cell_type": "markdown",
      "metadata": {
        "id": "VS1RJGtjatjl"
      },
      "source": [
        "# Show 4 samples in the dataset"
      ]
    },
    {
      "cell_type": "code",
      "metadata": {
        "colab": {
          "base_uri": "https://localhost:8080/",
          "height": 275
        },
        "id": "-GKUcQBWavzc",
        "outputId": "03d33408-500b-4cfa-e7f7-333df650cccb"
      },
      "source": [
        "import matplotlib.pyplot as plt\n",
        "\n",
        "fig = plt.figure()\n",
        "\n",
        "for i in range(len(training_data)):\n",
        "    image, id, label = training_data[i]\n",
        "\n",
        "    print(i, image.shape, id)\n",
        "\n",
        "    ax = plt.subplot(1, 4, i + 1)\n",
        "    plt.tight_layout()\n",
        "    ax.set_title('Sample #{}'.format(i))\n",
        "    ax.axis('off')\n",
        "\n",
        "    plt.imshow(image[0], cmap='gray')\n",
        "\n",
        "    if i == 3:\n",
        "        plt.show()\n",
        "        break"
      ],
      "execution_count": null,
      "outputs": [
        {
          "output_type": "stream",
          "text": [
            "0 torch.Size([3, 128, 64]) 350\n",
            "1 torch.Size([3, 128, 64]) 1411\n",
            "2 torch.Size([3, 128, 64]) 959\n",
            "3 torch.Size([3, 128, 64]) 959\n"
          ],
          "name": "stdout"
        },
        {
          "output_type": "display_data",
          "data": {
            "image/png": "[encoded data removed]",
            "text/plain": [
              "<Figure size 432x288 with 4 Axes>"
            ]
          },
          "metadata": {
            "tags": [],
            "needs_background": "light"
          }
        }
      ]
    },
    {
      "cell_type": "code",
      "metadata": {
        "id": "jMQ5vvbua1DU"
      },
      "source": [
        "labels_map = {\n",
        "    0: {\n",
        "        1: 'young',\n",
        "        2: 'teenager',\n",
        "        3: 'adult',\n",
        "        4: 'old'\n",
        "    },\n",
        "    1: {\n",
        "        1: 'no backpack',\n",
        "        2: 'yes backpack'\n",
        "    },\n",
        "    2: {\n",
        "        1: 'no bag',\n",
        "        2: 'yes bag'\n",
        "    },\n",
        "    3: {\n",
        "        1: 'no handbag',\n",
        "        2: 'yes handbag'\n",
        "    },\n",
        "    4: {\n",
        "        1: 'dress',\n",
        "        2: 'pants'\n",
        "    },\n",
        "    5: {\n",
        "        1: 'long lower body clothing',\n",
        "        2: 'short'\n",
        "    },\n",
        "    6: {\n",
        "        1: 'long sleeve',\n",
        "        2: 'short sleeve'\n",
        "    },\n",
        "    7: {\n",
        "        1: 'short hair',\n",
        "        2: 'long hair'\n",
        "    },\n",
        "    8: {\n",
        "        1: 'no hat',\n",
        "        2: 'yes hat'\n",
        "    },\n",
        "    9: {\n",
        "        1: 'male',\n",
        "        2: 'female'\n",
        "    },\n",
        "    10: {\n",
        "        1: 'no upblack',\n",
        "        2: 'yes upblack'\n",
        "    },\n",
        "    11: {\n",
        "        1: 'no upwhite',\n",
        "        2: 'yes upwhite'\n",
        "    },\n",
        "    12: {\n",
        "        1: 'no upred',\n",
        "        2: 'yes upred'\n",
        "    },\n",
        "    13: {\n",
        "        1: 'no uppurple',\n",
        "        2: 'yes uppurple'\n",
        "    },\n",
        "    14: {\n",
        "        1: 'no upyellow',\n",
        "        2: 'yes upyellow'\n",
        "    },\n",
        "    15: {\n",
        "        1: 'no upgray',\n",
        "        2: 'yes upgray'\n",
        "    },\n",
        "    16: {\n",
        "        1: 'no upblue',\n",
        "        2: 'yes upblue'\n",
        "    },\n",
        "    17: {\n",
        "        1: 'no upgreen',\n",
        "        2: 'yes upgreen'\n",
        "    },\n",
        "    18: {\n",
        "        1: 'no downblack',\n",
        "        2: 'yes downblack'\n",
        "    },\n",
        "    19: {\n",
        "        1: 'no downwhite',\n",
        "        2: 'yes downwhite'\n",
        "    },\n",
        "    20: {\n",
        "        1: 'no downpink',\n",
        "        2: 'yes downpink'\n",
        "    },\n",
        "    21: {\n",
        "        1: 'no downpurple',\n",
        "        2: 'yes downpurple'\n",
        "    },\n",
        "    22: {\n",
        "        1: 'no downyellow',\n",
        "        2: 'yes downyellow'\n",
        "    },\n",
        "    23: {\n",
        "        1: 'no downgray',\n",
        "        2: 'yes downgray'\n",
        "    },\n",
        "    24: {\n",
        "        1: 'no downblue',\n",
        "        2: 'yes downblue'\n",
        "    },\n",
        "    25: {\n",
        "        1: 'no downgreen',\n",
        "        2: 'yes downgreen'\n",
        "    },\n",
        "    26: {\n",
        "        1: 'no downbrown',\n",
        "        2: 'yes downbrown'\n",
        "    }    \n",
        "}\n",
        "\n",
        "# what about multicolor?"
      ],
      "execution_count": null,
      "outputs": []
    },
    {
      "cell_type": "code",
      "metadata": {
        "colab": {
          "base_uri": "https://localhost:8080/",
          "height": 868
        },
        "id": "-GdqDyTLa3GM",
        "outputId": "29f689ec-86c5-46ca-dad4-7a030cc529d0"
      },
      "source": [
        "train_dataloader = DataLoader(training_data, batch_size=64, shuffle=True)\n",
        "\n",
        "train_features, train_ids, train_labels = next(iter(train_dataloader))\n",
        "print(f\"Feature batch shape: {train_features.size()}\")\n",
        "print(f\"Labels batch shape: {train_labels.size()}\")\n",
        "img = train_features[0]\n",
        "label = train_labels[0].squeeze()\n",
        "plt.imshow(img.permute(1, 2, 0))\n",
        "plt.show()\n",
        "\n",
        "for i in range(len(label)):\n",
        "  print(labels_map[i][label[i].item()])\n",
        "\n",
        "print(f\"Label: {label}\")"
      ],
      "execution_count": null,
      "outputs": [
        {
          "output_type": "stream",
          "text": [
            "Feature batch shape: torch.Size([64, 3, 128, 64])\n",
            "Labels batch shape: torch.Size([64, 1, 27])\n"
          ],
          "name": "stdout"
        },
        {
          "output_type": "display_data",
          "data": {
            "image/png": "[encoded data removed]",
            "text/plain": [
              "<Figure size 432x288 with 1 Axes>"
            ]
          },
          "metadata": {
            "tags": [],
            "needs_background": "light"
          }
        },
        {
          "output_type": "stream",
          "text": [
            "adult\n",
            "no backpack\n",
            "no bag\n",
            "yes handbag\n",
            "pants\n",
            "long lower body clothing\n",
            "short sleeve\n",
            "short hair\n",
            "no hat\n",
            "male\n",
            "no upblack\n",
            "yes upwhite\n",
            "no upred\n",
            "no uppurple\n",
            "no upyellow\n",
            "no upgray\n",
            "no upblue\n",
            "no upgreen\n",
            "yes downblack\n",
            "no downwhite\n",
            "no downpink\n",
            "no downpurple\n",
            "no downyellow\n",
            "no downgray\n",
            "no downblue\n",
            "no downgreen\n",
            "no downbrown\n",
            "Label: tensor([3, 1, 1, 2, 2, 1, 2, 1, 1, 1, 1, 2, 1, 1, 1, 1, 1, 1, 2, 1, 1, 1, 1, 1,\n",
            "        1, 1, 1])\n"
          ],
          "name": "stdout"
        }
      ]
    },
    {
      "cell_type": "markdown",
      "metadata": {
        "id": "3DclRjH8y9cj"
      },
      "source": [
        "# Loss/cost function"
      ]
    },
    {
      "cell_type": "code",
      "metadata": {
        "id": "lOMN_Sf7y8NZ"
      },
      "source": [
        "def get_cost_function():\n",
        "  cost_function = torch.nn.CrossEntropyLoss()\n",
        "  return cost_function"
      ],
      "execution_count": null,
      "outputs": []
    },
    {
      "cell_type": "markdown",
      "metadata": {
        "id": "FcYwwYYhzGQt"
      },
      "source": [
        "# Optimizer"
      ]
    },
    {
      "cell_type": "code",
      "metadata": {
        "id": "qdro7NHAzH-z"
      },
      "source": [
        "def get_optimizer(net, lr, wd, momentum):\n",
        "  optimizer = torch.optim.SGD(net.parameters(), lr = lr, \n",
        "                              weight_decay = wd, momentum = momentum)\n",
        "  return optimizer"
      ],
      "execution_count": null,
      "outputs": []
    },
    {
      "cell_type": "markdown",
      "metadata": {
        "id": "P_U4qod8zlLf"
      },
      "source": [
        "# Train function"
      ]
    },
    {
      "cell_type": "code",
      "metadata": {
        "id": "ZZc2iIxbzmsE"
      },
      "source": [
        "def train(net, data_loader, optimizer, cost_function, device = 'cuda'):\n",
        "  samples = 0.\n",
        "  cumulative_loss = 0.\n",
        "  cumulative_accuracy = 0.\n",
        "\n",
        "  net.train()\n",
        "  for batch_idx, (inputs, targets) in enumerate(data_loader):\n",
        "\n",
        "    inputs = inputs.to(device)\n",
        "    targets = targets.to(device)\n",
        "\n",
        "    # Forward pass\n",
        "    ouputs = net(inputs)\n",
        "\n",
        "    # Apply the loss\n",
        "    loss = cost_function(outputs, targets)\n",
        "\n",
        "    # Backward pass\n",
        "    loss.backward()\n",
        "\n",
        "    # Update parameters\n",
        "    optimizer.step()\n",
        "\n",
        "    # Reset the gradients\n",
        "    optimizer.sero_grad()\n",
        "\n",
        "    samples += inputs.shape[0]\n",
        "    cumulative_loss += loss.item()\n",
        "    _, predicted = outputs.max(dim = 1)\n",
        "\n",
        "    cumulative_accuracy += predicted.eq(targets).sum().item()\n",
        "\n",
        "  return cumulative_loss/samples, cumulative_accuracy/samples*100"
      ],
      "execution_count": null,
      "outputs": []
    },
    {
      "cell_type": "markdown",
      "metadata": {
        "id": "BEGg6qJP1ogY"
      },
      "source": [
        "# Wrapping everything up"
      ]
    },
    {
      "cell_type": "code",
      "metadata": {
        "id": "DsUnES681qrd"
      },
      "source": [
        "def log_values(writer, step, loss, accuracy, prefix):\n",
        "  writer.add_scalar(f'{prefix}/loss', loss, step)\n",
        "  writer.add_scalar(f'{prefix}/accuracy', accuracy, step)\n",
        "\n",
        "def main(batch_size = 128, input_dim = 28*28, hidden_dim = 100, output_dim = 10, device = 'cuda:0', learning_rate = 0.01, weight_decay = 0.000001, momentum = 0.9, epochs = 10):\n",
        "  from torch.utils.tensorboard import SummaryWriter\n",
        "  # Creates a logger for the experiment\n",
        "  writer = SummaryWriter(log_dir = 'runs/exp1')\n",
        "\n",
        "  # Gets DataLoaders\n",
        "  train_loader, val_loader, test_loader = get_data(batch_size)\n",
        "\n",
        "  # Instantiates the network and moves it to the chosen device (GPU)\n",
        "  net = MyFirstNetwork(input_dim, hidden_dim, output_dim).to(device)\n",
        "\n",
        "  # Instantiates the optimizer\n",
        "  optimizer = get_optimizer(net, learning_rate, weight_decay, momentum)\n",
        "\n",
        "  # Creates the cost function\n",
        "  cost_function = get_cost_function()\n",
        "\n",
        "  # Computes evaluation results before training\n",
        "  print('Before training:')\n",
        "  train_loss, train_accuracy = test(net, train_loader, cost_function)\n",
        "  val_loss, val_accuracy = test(net, val_loader, cost_function)\n",
        "  test_loss, test_accuracy = test(net, test_loader, cost_function)\n",
        "\n",
        "  # Logs to TensorBoard\n",
        "  log_values(writer, -1, train_loss, train_accuracy, 'Train')\n",
        "  log_values(writer, -1, val_loss, val_accuracy, 'Validation')\n",
        "  log_values(writer, -1, test_loss, test_accuracy, 'Test')\n",
        "\n",
        "  print('\\t Training loss {:.5f}, Training accuracy {:.2f}'.format(train_loss, train_accuracy))\n",
        "  print('\\t Validation loss {:.5f}, Validation accuracy {:.2f}'.format(val_loss, val_accuracy))\n",
        "  print('\\t Test loss {:.5f}, Test accuracy {:.2f}'.format(test_loss, test_accuracy))\n",
        "  print('----------------------------------------------------------------------------')\n",
        "\n",
        "  # For each epoch, train the network and then compute evaluation results\n",
        "  for e in range(epochs):\n",
        "    train_loss, train_accuracy = train(net, train_loader, optimizer, cost_function)\n",
        "    val_loss, val_accuracy = test(net, val_loader, cost_function)\n",
        "\n",
        "    # Logs to TensorBoard\n",
        "    log_values(writer, e, val_loss, val_accuracy, 'Validation')\n",
        "\n",
        "    print('Epoch: {:d}'.format(e+1))\n",
        "    print('\\t Training loss {:.5f}, Training accuracy {:.2f}'.format(train_loss, train_accuracy))\n",
        "    print('\\t Validation loss {:.5f}, Validation accuracy {:.2f}'.format(val_loss, val_accuracy))\n",
        "    print('-----------------------------------------------------')\n",
        "\n",
        "  # Compute final evaluation results\n",
        "  print('After training')\n",
        "  train_loss, train_accuracy = test(net, train_loader, cost_function)\n",
        "  val_loss, val_accuracy = test(net, val_loader, cost_function)\n",
        "  test_loss, test_accuracy = test(net, test_loader, cost_function)\n",
        "\n",
        "  # Logs to TensorBoard\n",
        "  log_values(writer, epochs, train_loss, train_accuracy, 'Train')\n",
        "  log_values(writer, epochs, val_loss, val_accuracy, 'Validation')\n",
        "  log_values(writer, epochs, test_loss, test_accuracy, 'Test')\n",
        "\n",
        "  print('\\t Training loss {:.5f}, Training accuracy {:.2f}'.format(train_loss, train_accuracy))\n",
        "  print('\\t Validation loss {:.5f}, Validation accuracy {:.2f}'.format(val_loss, val_accuracy))\n",
        "  print('\\t Test loss {:.5f}, Test accuracy {:.2f}'.format(test_loss, test_accuracy))\n",
        "  print('-----------------------------------------------------')\n",
        "\n",
        "  # Closes the logger \n",
        "  writer.close()\n",
        "\n"
      ],
      "execution_count": null,
      "outputs": []
    }
  ]
}