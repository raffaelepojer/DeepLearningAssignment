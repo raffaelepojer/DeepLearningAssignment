{
  "nbformat": 4,
  "nbformat_minor": 0,
  "metadata": {
    "colab": {
      "name": "luna.ipynb",
      "provenance": [],
      "collapsed_sections": [
        "xFTiD5Nw7kcv",
        "m-LYJS7B7-4w",
        "VS1RJGtjatjl",
        "cMmQM_-WoMXW",
        "FcYwwYYhzGQt",
        "P_U4qod8zlLf"
      ],
      "authorship_tag": "ABX9TyPglS/QAZl7ZZTUszkuFH7k",
      "include_colab_link": true
    },
    "kernelspec": {
      "name": "python3",
      "display_name": "Python 3"
    },
    "language_info": {
      "name": "python"
    },
    "accelerator": "GPU",
    "widgets": {
      "application/vnd.jupyter.widget-state+json": {
        "b68f6dceaf13450a916d56c55be383bc": {
          "model_module": "@jupyter-widgets/controls",
          "model_name": "HBoxModel",
          "model_module_version": "1.5.0",
          "state": {
            "_view_name": "HBoxView",
            "_dom_classes": [],
            "_model_name": "HBoxModel",
            "_view_module": "@jupyter-widgets/controls",
            "_model_module_version": "1.5.0",
            "_view_count": null,
            "_view_module_version": "1.5.0",
            "box_style": "",
            "layout": "IPY_MODEL_850358e6842241b8906744efc6325775",
            "_model_module": "@jupyter-widgets/controls",
            "children": [
              "IPY_MODEL_84c7fa266adc442589206ba72f268665",
              "IPY_MODEL_972af681f17c43cebe1024971daf080e"
            ]
          }
        },
        "850358e6842241b8906744efc6325775": {
          "model_module": "@jupyter-widgets/base",
          "model_name": "LayoutModel",
          "model_module_version": "1.2.0",
          "state": {
            "_view_name": "LayoutView",
            "grid_template_rows": null,
            "right": null,
            "justify_content": null,
            "_view_module": "@jupyter-widgets/base",
            "overflow": null,
            "_model_module_version": "1.2.0",
            "_view_count": null,
            "flex_flow": null,
            "width": null,
            "min_width": null,
            "border": null,
            "align_items": null,
            "bottom": null,
            "_model_module": "@jupyter-widgets/base",
            "top": null,
            "grid_column": null,
            "overflow_y": null,
            "overflow_x": null,
            "grid_auto_flow": null,
            "grid_area": null,
            "grid_template_columns": null,
            "flex": null,
            "_model_name": "LayoutModel",
            "justify_items": null,
            "grid_row": null,
            "max_height": null,
            "align_content": null,
            "visibility": null,
            "align_self": null,
            "height": null,
            "min_height": null,
            "padding": null,
            "grid_auto_rows": null,
            "grid_gap": null,
            "max_width": null,
            "order": null,
            "_view_module_version": "1.2.0",
            "grid_template_areas": null,
            "object_position": null,
            "object_fit": null,
            "grid_auto_columns": null,
            "margin": null,
            "display": null,
            "left": null
          }
        },
        "84c7fa266adc442589206ba72f268665": {
          "model_module": "@jupyter-widgets/controls",
          "model_name": "FloatProgressModel",
          "model_module_version": "1.5.0",
          "state": {
            "_view_name": "ProgressView",
            "style": "IPY_MODEL_ea4b71761e3d45739eb4345409ae2ada",
            "_dom_classes": [],
            "description": "100%",
            "_model_name": "FloatProgressModel",
            "bar_style": "success",
            "max": 244408911,
            "_view_module": "@jupyter-widgets/controls",
            "_model_module_version": "1.5.0",
            "value": 244408911,
            "_view_count": null,
            "_view_module_version": "1.5.0",
            "orientation": "horizontal",
            "min": 0,
            "description_tooltip": null,
            "_model_module": "@jupyter-widgets/controls",
            "layout": "IPY_MODEL_043255c6d1f641e0a82bf1abcdf0cf4f"
          }
        },
        "972af681f17c43cebe1024971daf080e": {
          "model_module": "@jupyter-widgets/controls",
          "model_name": "HTMLModel",
          "model_module_version": "1.5.0",
          "state": {
            "_view_name": "HTMLView",
            "style": "IPY_MODEL_1fc0d8914e2140969e4b547fd241b95e",
            "_dom_classes": [],
            "description": "",
            "_model_name": "HTMLModel",
            "placeholder": "​",
            "_view_module": "@jupyter-widgets/controls",
            "_model_module_version": "1.5.0",
            "value": " 233M/233M [00:02&lt;00:00, 86.8MB/s]",
            "_view_count": null,
            "_view_module_version": "1.5.0",
            "description_tooltip": null,
            "_model_module": "@jupyter-widgets/controls",
            "layout": "IPY_MODEL_be39feef46f24a42988f3c385aeb9d4f"
          }
        },
        "ea4b71761e3d45739eb4345409ae2ada": {
          "model_module": "@jupyter-widgets/controls",
          "model_name": "ProgressStyleModel",
          "model_module_version": "1.5.0",
          "state": {
            "_view_name": "StyleView",
            "_model_name": "ProgressStyleModel",
            "description_width": "initial",
            "_view_module": "@jupyter-widgets/base",
            "_model_module_version": "1.5.0",
            "_view_count": null,
            "_view_module_version": "1.2.0",
            "bar_color": null,
            "_model_module": "@jupyter-widgets/controls"
          }
        },
        "043255c6d1f641e0a82bf1abcdf0cf4f": {
          "model_module": "@jupyter-widgets/base",
          "model_name": "LayoutModel",
          "model_module_version": "1.2.0",
          "state": {
            "_view_name": "LayoutView",
            "grid_template_rows": null,
            "right": null,
            "justify_content": null,
            "_view_module": "@jupyter-widgets/base",
            "overflow": null,
            "_model_module_version": "1.2.0",
            "_view_count": null,
            "flex_flow": null,
            "width": null,
            "min_width": null,
            "border": null,
            "align_items": null,
            "bottom": null,
            "_model_module": "@jupyter-widgets/base",
            "top": null,
            "grid_column": null,
            "overflow_y": null,
            "overflow_x": null,
            "grid_auto_flow": null,
            "grid_area": null,
            "grid_template_columns": null,
            "flex": null,
            "_model_name": "LayoutModel",
            "justify_items": null,
            "grid_row": null,
            "max_height": null,
            "align_content": null,
            "visibility": null,
            "align_self": null,
            "height": null,
            "min_height": null,
            "padding": null,
            "grid_auto_rows": null,
            "grid_gap": null,
            "max_width": null,
            "order": null,
            "_view_module_version": "1.2.0",
            "grid_template_areas": null,
            "object_position": null,
            "object_fit": null,
            "grid_auto_columns": null,
            "margin": null,
            "display": null,
            "left": null
          }
        },
        "1fc0d8914e2140969e4b547fd241b95e": {
          "model_module": "@jupyter-widgets/controls",
          "model_name": "DescriptionStyleModel",
          "model_module_version": "1.5.0",
          "state": {
            "_view_name": "StyleView",
            "_model_name": "DescriptionStyleModel",
            "description_width": "",
            "_view_module": "@jupyter-widgets/base",
            "_model_module_version": "1.5.0",
            "_view_count": null,
            "_view_module_version": "1.2.0",
            "_model_module": "@jupyter-widgets/controls"
          }
        },
        "be39feef46f24a42988f3c385aeb9d4f": {
          "model_module": "@jupyter-widgets/base",
          "model_name": "LayoutModel",
          "model_module_version": "1.2.0",
          "state": {
            "_view_name": "LayoutView",
            "grid_template_rows": null,
            "right": null,
            "justify_content": null,
            "_view_module": "@jupyter-widgets/base",
            "overflow": null,
            "_model_module_version": "1.2.0",
            "_view_count": null,
            "flex_flow": null,
            "width": null,
            "min_width": null,
            "border": null,
            "align_items": null,
            "bottom": null,
            "_model_module": "@jupyter-widgets/base",
            "top": null,
            "grid_column": null,
            "overflow_y": null,
            "overflow_x": null,
            "grid_auto_flow": null,
            "grid_area": null,
            "grid_template_columns": null,
            "flex": null,
            "_model_name": "LayoutModel",
            "justify_items": null,
            "grid_row": null,
            "max_height": null,
            "align_content": null,
            "visibility": null,
            "align_self": null,
            "height": null,
            "min_height": null,
            "padding": null,
            "grid_auto_rows": null,
            "grid_gap": null,
            "max_width": null,
            "order": null,
            "_view_module_version": "1.2.0",
            "grid_template_areas": null,
            "object_position": null,
            "object_fit": null,
            "grid_auto_columns": null,
            "margin": null,
            "display": null,
            "left": null
          }
        }
      }
    }
  },
  "cells": [
    {
      "cell_type": "markdown",
      "metadata": {
        "id": "view-in-github",
        "colab_type": "text"
      },
      "source": [
        "<a href=\"https://colab.research.google.com/github/raffaelepojer/DeepLearningAssignment/blob/DL_luna/luna.ipynb\" target=\"_parent\"><img src=\"https://colab.research.google.com/assets/colab-badge.svg\" alt=\"Open In Colab\"/></a>"
      ]
    },
    {
      "cell_type": "markdown",
      "metadata": {
        "id": "o6qVu3yRaYv8"
      },
      "source": [
        "# Accessing the dataset"
      ]
    },
    {
      "cell_type": "code",
      "metadata": {
        "colab": {
          "base_uri": "https://localhost:8080/"
        },
        "id": "wAL3hQ8oaOe0",
        "outputId": "6edc78e8-a4df-4347-ec2e-c285368e2e53"
      },
      "source": [
        "from google.colab import drive\n",
        "\n",
        "drive.mount(\"/content/gdrive\")\n",
        "\n",
        "%cd /content/gdrive/MyDrive/dataset_elisa"
      ],
      "execution_count": null,
      "outputs": [
        {
          "output_type": "stream",
          "text": [
            "Mounted at /content/gdrive\n",
            "/content/gdrive/MyDrive/dataset_elisa\n"
          ],
          "name": "stdout"
        }
      ]
    },
    {
      "cell_type": "markdown",
      "metadata": {
        "id": "cosPyYuPaTrn"
      },
      "source": [
        "# Start importing the dataset in pytorch"
      ]
    },
    {
      "cell_type": "code",
      "metadata": {
        "id": "wfuN0JlzafJF"
      },
      "source": [
        "import torch, torchvision\n",
        "from torch.utils.data import Dataset\n",
        "from torchvision import transforms as T \n",
        "import torch.nn.functional as F \n",
        "#from torchvision import datasets\n",
        "#from torchvision.transforms import ToTensor\n",
        "import matplotlib.pyplot as plt\n",
        "import pandas as pd\n",
        "\n",
        "import os\n",
        "import shutil\n",
        "from torchvision.io import read_image\n",
        "from torch.utils.data import DataLoader"
      ],
      "execution_count": null,
      "outputs": []
    },
    {
      "cell_type": "markdown",
      "metadata": {
        "id": "xFTiD5Nw7kcv"
      },
      "source": [
        "# Shrinking the dataset"
      ]
    },
    {
      "cell_type": "code",
      "metadata": {
        "id": "xFWwAdlJ7kcw"
      },
      "source": [
        "# CHECK FOR MISSING DATA\n",
        "\n",
        "df_red = pd.read_csv('annotations_train.csv') \n",
        "df_red.info(verbose = True)"
      ],
      "execution_count": null,
      "outputs": []
    },
    {
      "cell_type": "code",
      "metadata": {
        "id": "u7IDXsm1tdY6"
      },
      "source": [
        "#os.mkdir('/content/gdrive/MyDrive/dataset_elisa_red')\n",
        "#os.mkdir('/content/gdrive/MyDrive/dataset_elisa_red/train')\n",
        "#os.mkdir('/content/gdrive/MyDrive/dataset_elisa_red/test')"
      ],
      "execution_count": null,
      "outputs": []
    },
    {
      "cell_type": "code",
      "metadata": {
        "id": "uWqGdTm-tfsw"
      },
      "source": [
        "sorted_csv = r'/content/gdrive/MyDrive/dataset_elisa_red/tmp.csv'\n",
        "final = r'/content/gdrive/MyDrive/dataset_elisa_red/annotations_train_sorted_red.csv'\n",
        "db = pd.read_csv('/content/gdrive/MyDrive/dataset_elisa/annotations_train.csv', header = 0)\n",
        "db.sort_values(by=['id'], ascending=True).to_csv(sorted_csv, index=False)\n",
        "red_csv_sorted = pd.read_csv(sorted_csv, nrows = 100)\n",
        "red_csv_sorted.to_csv(final, sep = ',')\n",
        "#red_csv_sorted"
      ],
      "execution_count": null,
      "outputs": []
    },
    {
      "cell_type": "code",
      "metadata": {
        "id": "yuU7lmf9_289"
      },
      "source": [
        "# REDUCED TRAIN DIRECTORY\n",
        "os.chdir('/content/gdrive/MyDrive/dataset_elisa/train')\n",
        "dst_dir = '/content/gdrive/MyDrive/dataset_elisa_red/train'\n",
        "\n",
        "for idx in red_csv_sorted['id']:\n",
        "  for f in os.listdir(): \n",
        "    if str(idx).zfill(4) == f[:4]:      \n",
        "      shutil.copy(f, dst_dir)"
      ],
      "execution_count": null,
      "outputs": []
    },
    {
      "cell_type": "code",
      "metadata": {
        "id": "9bg2FAh-LjIF"
      },
      "source": [
        "# REDUCED TEST DIRECTORY\n",
        "red_csv_sorted = pd.read_csv(sorted_csv, nrows = 20)\n",
        "os.chdir('/content/gdrive/MyDrive/dataset_elisa/test')\n",
        "dst_dir = '/content/gdrive/MyDrive/dataset_elisa_red/test'\n",
        "\n",
        "for idx in red_csv_sorted['id']:\n",
        "  for f in os.listdir(): \n",
        "    if str(idx).zfill(6) == f[:6]:\n",
        "      shutil.copy(f, dst_dir)"
      ],
      "execution_count": null,
      "outputs": []
    },
    {
      "cell_type": "markdown",
      "metadata": {
        "id": "m-LYJS7B7-4w"
      },
      "source": [
        "# Preliminary checks"
      ]
    },
    {
      "cell_type": "code",
      "metadata": {
        "id": "4_QE0nSwGhFS"
      },
      "source": [
        "df = pd.read_csv('annotations_train.csv')\n",
        "tmp = df.iloc[df.index[df['id'] == 9], 1:]\n",
        "tmp"
      ],
      "execution_count": null,
      "outputs": []
    },
    {
      "cell_type": "code",
      "metadata": {
        "id": "P23YT0gzakvl"
      },
      "source": [
        "fig, axes = plt.subplots(nrows=2, ncols=2)\n",
        "# Age and gender\n",
        "df['age'].value_counts().plot(ax=axes[0,0], kind = 'bar', title = 'Age')\n",
        "df['gender'].value_counts().plot(ax=axes[0,1], kind = 'bar', title = 'Gender')\n",
        "# Head features\n",
        "df['hair'].value_counts().plot(ax=axes[1,0], kind = 'bar', title = 'Hair')\n",
        "df['hat'].value_counts().plot(ax=axes[1,1], kind = 'bar', title = 'Hat')\n"
      ],
      "execution_count": null,
      "outputs": []
    },
    {
      "cell_type": "code",
      "metadata": {
        "id": "pUpfgM5pE0Ax"
      },
      "source": [
        "fig, axes = plt.subplots(nrows=2, ncols=2)\n",
        "# General features\n",
        "df['backpack'].value_counts().plot(ax=axes[0,0], kind = 'bar', title = 'Backpack')\n",
        "df['bag'].value_counts().plot(ax=axes[0,1], kind = 'bar', title = 'Bag')\n",
        "df['handbag'].value_counts().plot(ax=axes[1,0], kind = 'bar', title = 'Handbag')\n",
        "df['clothes'].value_counts().plot(ax=axes[1,1], kind = 'bar', title = 'Clothes')"
      ],
      "execution_count": null,
      "outputs": []
    },
    {
      "cell_type": "code",
      "metadata": {
        "id": "Z_5b4v4QFJT9"
      },
      "source": [
        "fig, axes = plt.subplots(nrows=2, ncols=2)\n",
        "# Upper clothing color\n",
        "df['upblack'].value_counts().plot(ax=axes[0,0], kind = 'bar', title = 'Upblack')\n",
        "df['upwhite'].value_counts().plot(ax=axes[0,1], kind = 'bar', title = 'Upwhite')\n",
        "df['upred'].value_counts().plot(ax=axes[1,0], kind = 'bar', title = 'Upred')\n",
        "df['uppurple'].value_counts().plot(ax=axes[1,1], kind = 'bar', title = 'Uppurple')"
      ],
      "execution_count": null,
      "outputs": []
    },
    {
      "cell_type": "code",
      "metadata": {
        "id": "Hdm7B5EkFULq"
      },
      "source": [
        "fig, axes = plt.subplots(nrows=2, ncols=2)\n",
        "# Cntd\n",
        "df['upyellow'].value_counts().plot(ax=axes[0,0], kind = 'bar', title = 'Upyellow')\n",
        "df['upgray'].value_counts().plot(ax=axes[0,1], kind = 'bar', title = 'Upgray')\n",
        "df['upblue'].value_counts().plot(ax=axes[1,0], kind = 'bar', title = 'Upblue')\n",
        "df['upgreen'].value_counts().plot(ax=axes[1,1], kind = 'bar', title = 'Upgreen')"
      ],
      "execution_count": null,
      "outputs": []
    },
    {
      "cell_type": "code",
      "metadata": {
        "id": "sKukg8nDFLZd"
      },
      "source": [
        "fig, axes = plt.subplots(nrows=2, ncols=2)\n",
        "# Lower clothing color\n",
        "df['downblack'].value_counts().plot(ax=axes[0,0], kind = 'bar', title = 'Downblack')\n",
        "df['downwhite'].value_counts().plot(ax=axes[0,1], kind = 'bar', title = 'Downwhite')\n",
        "df['downpink'].value_counts().plot(ax=axes[1,0], kind = 'bar', title = 'Downpink')\n",
        "df['downpurple'].value_counts().plot(ax=axes[1,1], kind = 'bar', title = 'Downpurple')"
      ],
      "execution_count": null,
      "outputs": []
    },
    {
      "cell_type": "code",
      "metadata": {
        "id": "o9Zmo-xVFqne"
      },
      "source": [
        "fig, axes = plt.subplots(nrows=3, ncols=2)\n",
        "# Cntd\n",
        "df['downyellow'].value_counts().plot(ax=axes[0,0], kind = 'bar', title = 'Downyellow')\n",
        "df['downgray'].value_counts().plot(ax=axes[0,1], kind = 'bar', title = 'Downgray')\n",
        "df['downblue'].value_counts().plot(ax=axes[1,0], kind = 'bar', title = 'Downblue')\n",
        "df['downgreen'].value_counts().plot(ax=axes[1,1], kind = 'bar', title = 'Downgreen')\n",
        "df['downbrown'].value_counts().plot(ax=axes[2,0], kind = 'bar', title = 'Downbrown')"
      ],
      "execution_count": null,
      "outputs": []
    },
    {
      "cell_type": "code",
      "metadata": {
        "id": "g4XGkSJOanfW"
      },
      "source": [
        "class ElyImageDataset(Dataset):\n",
        "    def __init__(self, annotations_file, img_dir, transform=None, target_transform=None):\n",
        "        self.img_labels = pd.read_csv(annotations_file)\n",
        "        self.img_dir = img_dir\n",
        "\n",
        "        self.imgs = os.listdir(img_dir)\n",
        "        self.img_list = self.imgs\n",
        "\n",
        "        self.imgs = [el for el in self.imgs if os.path.splitext(el)[1] == '.jpg']\n",
        "        self.lb_ids = [int(el.split('_')[0]) for el in self.imgs]\n",
        "        self.lb_cams = [int(el.split('_')[1][1]) for el in self.imgs]\n",
        "        self.imgs = [os.path.join(img_dir, el) for el in self.imgs]\n",
        "\n",
        "        self.transform = transform\n",
        "        self.target_transform = target_transform\n",
        "\n",
        "    def __len__(self):\n",
        "        return len(self.img_labels)\n",
        "\n",
        "    def __getitem__(self, idx):\n",
        "        img_path = os.path.join(self.img_dir, self.img_list[idx])\n",
        "        image = read_image(img_path)\n",
        "        id = self.lb_ids[idx]\n",
        "\n",
        "        label = torch.tensor(self.img_labels.iloc[self.img_labels.index[self.img_labels['id'] == self.lb_ids[idx]], 1:].values)\n",
        "        if self.transform:\n",
        "            image = self.transform(image)\n",
        "        if self.target_transform:\n",
        "            label = self.target_transform(label)\n",
        "        return image, id, label\n"
      ],
      "execution_count": null,
      "outputs": []
    },
    {
      "cell_type": "code",
      "metadata": {
        "id": "bZoaQHo3arIW"
      },
      "source": [
        "training_data = ElyImageDataset('/content/gdrive/MyDrive/dataset_elisa_red/annotations_train_sorted_red.csv', '/content/gdrive/MyDrive/dataset_elisa_red/train/')"
      ],
      "execution_count": null,
      "outputs": []
    },
    {
      "cell_type": "markdown",
      "metadata": {
        "id": "VS1RJGtjatjl"
      },
      "source": [
        "# Show 4 samples in the dataset"
      ]
    },
    {
      "cell_type": "code",
      "metadata": {
        "colab": {
          "base_uri": "https://localhost:8080/",
          "height": 275
        },
        "id": "-GKUcQBWavzc",
        "outputId": "03d33408-500b-4cfa-e7f7-333df650cccb"
      },
      "source": [
        "import matplotlib.pyplot as plt\n",
        "\n",
        "fig = plt.figure()\n",
        "\n",
        "for i in range(len(training_data)):\n",
        "    image, id, label = training_data[i]\n",
        "\n",
        "    print(i, image.shape, id)\n",
        "\n",
        "    ax = plt.subplot(1, 4, i + 1)\n",
        "    plt.tight_layout()\n",
        "    ax.set_title('Sample #{}'.format(i))\n",
        "    ax.axis('off')\n",
        "\n",
        "    plt.imshow(image[0], cmap='gray')\n",
        "\n",
        "    if i == 3:\n",
        "        plt.show()\n",
        "        break"
      ],
      "execution_count": null,
      "outputs": [
        {
          "output_type": "stream",
          "text": [
            "0 torch.Size([3, 128, 64]) 350\n",
            "1 torch.Size([3, 128, 64]) 1411\n",
            "2 torch.Size([3, 128, 64]) 959\n",
            "3 torch.Size([3, 128, 64]) 959\n"
          ],
          "name": "stdout"
        },
        {
          "output_type": "display_data",
          "data": {
            "image/png": "[encoded data removed]",
            "text/plain": [
              "<Figure size 432x288 with 4 Axes>"
            ]
          },
          "metadata": {
            "tags": [],
            "needs_background": "light"
          }
        }
      ]
    },
    {
      "cell_type": "code",
      "metadata": {
        "id": "jMQ5vvbua1DU"
      },
      "source": [
        "labels_map = {\n",
        "    0: {\n",
        "        1: 'young',\n",
        "        2: 'teenager',\n",
        "        3: 'adult',\n",
        "        4: 'old'\n",
        "    },\n",
        "    1: {\n",
        "        1: 'no backpack',\n",
        "        2: 'yes backpack'\n",
        "    },\n",
        "    2: {\n",
        "        1: 'no bag',\n",
        "        2: 'yes bag'\n",
        "    },\n",
        "    3: {\n",
        "        1: 'no handbag',\n",
        "        2: 'yes handbag'\n",
        "    },\n",
        "    4: {\n",
        "        1: 'dress',\n",
        "        2: 'pants'\n",
        "    },\n",
        "    5: {\n",
        "        1: 'long lower body clothing',\n",
        "        2: 'short'\n",
        "    },\n",
        "    6: {\n",
        "        1: 'long sleeve',\n",
        "        2: 'short sleeve'\n",
        "    },\n",
        "    7: {\n",
        "        1: 'short hair',\n",
        "        2: 'long hair'\n",
        "    },\n",
        "    8: {\n",
        "        1: 'no hat',\n",
        "        2: 'yes hat'\n",
        "    },\n",
        "    9: {\n",
        "        1: 'male',\n",
        "        2: 'female'\n",
        "    },\n",
        "    10: {\n",
        "        1: 'no upblack',\n",
        "        2: 'yes upblack'\n",
        "    },\n",
        "    11: {\n",
        "        1: 'no upwhite',\n",
        "        2: 'yes upwhite'\n",
        "    },\n",
        "    12: {\n",
        "        1: 'no upred',\n",
        "        2: 'yes upred'\n",
        "    },\n",
        "    13: {\n",
        "        1: 'no uppurple',\n",
        "        2: 'yes uppurple'\n",
        "    },\n",
        "    14: {\n",
        "        1: 'no upyellow',\n",
        "        2: 'yes upyellow'\n",
        "    },\n",
        "    15: {\n",
        "        1: 'no upgray',\n",
        "        2: 'yes upgray'\n",
        "    },\n",
        "    16: {\n",
        "        1: 'no upblue',\n",
        "        2: 'yes upblue'\n",
        "    },\n",
        "    17: {\n",
        "        1: 'no upgreen',\n",
        "        2: 'yes upgreen'\n",
        "    },\n",
        "    18: {\n",
        "        1: 'no downblack',\n",
        "        2: 'yes downblack'\n",
        "    },\n",
        "    19: {\n",
        "        1: 'no downwhite',\n",
        "        2: 'yes downwhite'\n",
        "    },\n",
        "    20: {\n",
        "        1: 'no downpink',\n",
        "        2: 'yes downpink'\n",
        "    },\n",
        "    21: {\n",
        "        1: 'no downpurple',\n",
        "        2: 'yes downpurple'\n",
        "    },\n",
        "    22: {\n",
        "        1: 'no downyellow',\n",
        "        2: 'yes downyellow'\n",
        "    },\n",
        "    23: {\n",
        "        1: 'no downgray',\n",
        "        2: 'yes downgray'\n",
        "    },\n",
        "    24: {\n",
        "        1: 'no downblue',\n",
        "        2: 'yes downblue'\n",
        "    },\n",
        "    25: {\n",
        "        1: 'no downgreen',\n",
        "        2: 'yes downgreen'\n",
        "    },\n",
        "    26: {\n",
        "        1: 'no downbrown',\n",
        "        2: 'yes downbrown'\n",
        "    }    \n",
        "}\n",
        "\n",
        "# what about multicolor?"
      ],
      "execution_count": null,
      "outputs": []
    },
    {
      "cell_type": "code",
      "metadata": {
        "colab": {
          "base_uri": "https://localhost:8080/",
          "height": 868
        },
        "id": "-GdqDyTLa3GM",
        "outputId": "29f689ec-86c5-46ca-dad4-7a030cc529d0"
      },
      "source": [
        "train_dataloader = DataLoader(training_data, batch_size=64, shuffle=True)\n",
        "\n",
        "train_features, train_ids, train_labels = next(iter(train_dataloader))\n",
        "print(f\"Feature batch shape: {train_features.size()}\")\n",
        "print(f\"Labels batch shape: {train_labels.size()}\")\n",
        "img = train_features[0]\n",
        "label = train_labels[0].squeeze()\n",
        "plt.imshow(img.permute(1, 2, 0))\n",
        "plt.show()\n",
        "\n",
        "for i in range(len(label)):\n",
        "  print(labels_map[i][label[i].item()])\n",
        "\n",
        "print(f\"Label: {label}\")"
      ],
      "execution_count": null,
      "outputs": [
        {
          "output_type": "stream",
          "text": [
            "Feature batch shape: torch.Size([64, 3, 128, 64])\n",
            "Labels batch shape: torch.Size([64, 1, 27])\n"
          ],
          "name": "stdout"
        },
        {
          "output_type": "display_data",
          "data": {
            "image/png": "[encoded data removed]",
            "text/plain": [
              "<Figure size 432x288 with 1 Axes>"
            ]
          },
          "metadata": {
            "tags": [],
            "needs_background": "light"
          }
        },
        {
          "output_type": "stream",
          "text": [
            "adult\n",
            "no backpack\n",
            "no bag\n",
            "yes handbag\n",
            "pants\n",
            "long lower body clothing\n",
            "short sleeve\n",
            "short hair\n",
            "no hat\n",
            "male\n",
            "no upblack\n",
            "yes upwhite\n",
            "no upred\n",
            "no uppurple\n",
            "no upyellow\n",
            "no upgray\n",
            "no upblue\n",
            "no upgreen\n",
            "yes downblack\n",
            "no downwhite\n",
            "no downpink\n",
            "no downpurple\n",
            "no downyellow\n",
            "no downgray\n",
            "no downblue\n",
            "no downgreen\n",
            "no downbrown\n",
            "Label: tensor([3, 1, 1, 2, 2, 1, 2, 1, 1, 1, 1, 2, 1, 1, 1, 1, 1, 1, 2, 1, 1, 1, 1, 1,\n",
            "        1, 1, 1])\n"
          ],
          "name": "stdout"
        }
      ]
    },
    {
      "cell_type": "markdown",
      "metadata": {
        "id": "cMmQM_-WoMXW"
      },
      "source": [
        "# First random attempt"
      ]
    },
    {
      "cell_type": "markdown",
      "metadata": {
        "id": "3DclRjH8y9cj"
      },
      "source": [
        "## Loss/cost function"
      ]
    },
    {
      "cell_type": "code",
      "metadata": {
        "id": "lOMN_Sf7y8NZ"
      },
      "source": [
        "def get_cost_function():\n",
        "  cost_function = torch.nn.CrossEntropyLoss()\n",
        "  return cost_function"
      ],
      "execution_count": null,
      "outputs": []
    },
    {
      "cell_type": "markdown",
      "metadata": {
        "id": "FcYwwYYhzGQt"
      },
      "source": [
        "## Optimizer"
      ]
    },
    {
      "cell_type": "code",
      "metadata": {
        "id": "qdro7NHAzH-z"
      },
      "source": [
        "def get_optimizer(net, lr, wd, momentum):\n",
        "  optimizer = torch.optim.SGD(net.parameters(), lr = lr, \n",
        "                              weight_decay = wd, momentum = momentum)\n",
        "  return optimizer"
      ],
      "execution_count": null,
      "outputs": []
    },
    {
      "cell_type": "markdown",
      "metadata": {
        "id": "P_U4qod8zlLf"
      },
      "source": [
        "## Train function"
      ]
    },
    {
      "cell_type": "code",
      "metadata": {
        "id": "ZZc2iIxbzmsE"
      },
      "source": [
        "def train(net, data_loader, optimizer, cost_function, device = 'cuda'):\n",
        "  samples = 0.\n",
        "  cumulative_loss = 0.\n",
        "  cumulative_accuracy = 0.\n",
        "\n",
        "  net.train()\n",
        "  for batch_idx, (inputs, targets) in enumerate(data_loader):\n",
        "\n",
        "    inputs = inputs.to(device)\n",
        "    targets = targets.to(device)\n",
        "\n",
        "    # Forward pass\n",
        "    ouputs = net(inputs)\n",
        "\n",
        "    # Apply the loss\n",
        "    loss = cost_function(outputs, targets)\n",
        "\n",
        "    # Backward pass\n",
        "    loss.backward()\n",
        "\n",
        "    # Update parameters\n",
        "    optimizer.step()\n",
        "\n",
        "    # Reset the gradients\n",
        "    optimizer.zero_grad()\n",
        "\n",
        "    samples += inputs.shape[0]\n",
        "    cumulative_loss += loss.item()\n",
        "    _, predicted = outputs.max(dim = 1)\n",
        "\n",
        "    cumulative_accuracy += predicted.eq(targets).sum().item()\n",
        "\n",
        "  return cumulative_loss/samples, cumulative_accuracy/samples*100"
      ],
      "execution_count": null,
      "outputs": []
    },
    {
      "cell_type": "markdown",
      "metadata": {
        "id": "BEGg6qJP1ogY"
      },
      "source": [
        "## Wrapping everything up"
      ]
    },
    {
      "cell_type": "code",
      "metadata": {
        "id": "DsUnES681qrd"
      },
      "source": [
        "def log_values(writer, step, loss, accuracy, prefix):\n",
        "  writer.add_scalar(f'{prefix}/loss', loss, step)\n",
        "  writer.add_scalar(f'{prefix}/accuracy', accuracy, step)\n",
        "\n",
        "def main(batch_size = 128, input_dim = 28*28, hidden_dim = 100, output_dim = 10, device = 'cuda:0', learning_rate = 0.01, weight_decay = 0.000001, momentum = 0.9, epochs = 10):\n",
        "  from torch.utils.tensorboard import SummaryWriter\n",
        "  # Creates a logger for the experiment\n",
        "  writer = SummaryWriter(log_dir = 'runs/exp1')\n",
        "\n",
        "  # Gets DataLoaders\n",
        "  train_loader, val_loader, test_loader = get_data(batch_size)\n",
        "\n",
        "  # Instantiates the network and moves it to the chosen device (GPU)\n",
        "  net = MyFirstNetwork(input_dim, hidden_dim, output_dim).to(device)\n",
        "\n",
        "  # Instantiates the optimizer\n",
        "  optimizer = get_optimizer(net, learning_rate, weight_decay, momentum)\n",
        "\n",
        "  # Creates the cost function\n",
        "  cost_function = get_cost_function()\n",
        "\n",
        "  # Computes evaluation results before training\n",
        "  print('Before training:')\n",
        "  train_loss, train_accuracy = test(net, train_loader, cost_function)\n",
        "  val_loss, val_accuracy = test(net, val_loader, cost_function)\n",
        "  test_loss, test_accuracy = test(net, test_loader, cost_function)\n",
        "\n",
        "  # Logs to TensorBoard\n",
        "  log_values(writer, -1, train_loss, train_accuracy, 'Train')\n",
        "  log_values(writer, -1, val_loss, val_accuracy, 'Validation')\n",
        "  log_values(writer, -1, test_loss, test_accuracy, 'Test')\n",
        "\n",
        "  print('\\t Training loss {:.5f}, Training accuracy {:.2f}'.format(train_loss, train_accuracy))\n",
        "  print('\\t Validation loss {:.5f}, Validation accuracy {:.2f}'.format(val_loss, val_accuracy))\n",
        "  print('\\t Test loss {:.5f}, Test accuracy {:.2f}'.format(test_loss, test_accuracy))\n",
        "  print('----------------------------------------------------------------------------')\n",
        "\n",
        "  # For each epoch, train the network and then compute evaluation results\n",
        "  for e in range(epochs):\n",
        "    train_loss, train_accuracy = train(net, train_loader, optimizer, cost_function)\n",
        "    val_loss, val_accuracy = test(net, val_loader, cost_function)\n",
        "\n",
        "    # Logs to TensorBoard\n",
        "    log_values(writer, e, val_loss, val_accuracy, 'Validation')\n",
        "\n",
        "    print('Epoch: {:d}'.format(e+1))\n",
        "    print('\\t Training loss {:.5f}, Training accuracy {:.2f}'.format(train_loss, train_accuracy))\n",
        "    print('\\t Validation loss {:.5f}, Validation accuracy {:.2f}'.format(val_loss, val_accuracy))\n",
        "    print('-----------------------------------------------------')\n",
        "\n",
        "  # Compute final evaluation results\n",
        "  print('After training')\n",
        "  train_loss, train_accuracy = test(net, train_loader, cost_function)\n",
        "  val_loss, val_accuracy = test(net, val_loader, cost_function)\n",
        "  test_loss, test_accuracy = test(net, test_loader, cost_function)\n",
        "\n",
        "  # Logs to TensorBoard\n",
        "  log_values(writer, epochs, train_loss, train_accuracy, 'Train')\n",
        "  log_values(writer, epochs, val_loss, val_accuracy, 'Validation')\n",
        "  log_values(writer, epochs, test_loss, test_accuracy, 'Test')\n",
        "\n",
        "  print('\\t Training loss {:.5f}, Training accuracy {:.2f}'.format(train_loss, train_accuracy))\n",
        "  print('\\t Validation loss {:.5f}, Validation accuracy {:.2f}'.format(val_loss, val_accuracy))\n",
        "  print('\\t Test loss {:.5f}, Test accuracy {:.2f}'.format(test_loss, test_accuracy))\n",
        "  print('-----------------------------------------------------')\n",
        "\n",
        "  # Closes the logger \n",
        "  writer.close()\n",
        "\n"
      ],
      "execution_count": null,
      "outputs": []
    },
    {
      "cell_type": "code",
      "metadata": {
        "id": "P-zwKqZfaxc9"
      },
      "source": [
        "main()"
      ],
      "execution_count": null,
      "outputs": []
    },
    {
      "cell_type": "markdown",
      "metadata": {
        "id": "Hpsa42k0okL0"
      },
      "source": [
        "# Trying AlexNet"
      ]
    },
    {
      "cell_type": "code",
      "metadata": {
        "id": "ywSaPqcWom-j"
      },
      "source": [
        "# import necessary libraries\n",
        "import torch\n",
        "import torchvision\n",
        "import torch.nn.functional as F\n",
        "import torchvision.transforms as T\n",
        "\n",
        "# Library needed for visualization purposes\n",
        "from torch.utils.tensorboard import SummaryWriter"
      ],
      "execution_count": null,
      "outputs": []
    },
    {
      "cell_type": "markdown",
      "metadata": {
        "id": "Skv7RA2BpCMz"
      },
      "source": [
        "## Define the function that fetches a data loader that is then used during iterative training"
      ]
    },
    {
      "cell_type": "code",
      "metadata": {
        "id": "Da8ZCcBeQXfn"
      },
      "source": [
        "# '''\n",
        "# Input arguments:\n",
        "#   batch_size: mini batch size used during training\n",
        "#   img_root: path to the dataset parent folder. \n",
        "#             The folder just above the sub-folders or class folders\n",
        "# '''\n",
        "\n",
        "# def get_data(batch_size, img_root, train_loc, test_loc, ann_loc):\n",
        "  \n",
        "#   # Prepare data transformations for the train loader\n",
        "#   # transform = list()\n",
        "#   # transform.append(T.Resize((64, 128)))                      # Resize each PIL image to 256 x 256\n",
        "#   # transform.append(T.RandomCrop((50, 100)))                   # Randomly crop a 224 x 224 patch\n",
        "#   # transform.append(T.ToTensor())                              # converts Numpy to Pytorch Tensor\n",
        "#   # transform.append(T.Normalize(mean=[0.485, 0.456, 0.406], \n",
        "#   #                              std=[0.229, 0.224, 0.225]))    # Normalize with ImageNet mean\n",
        "#   # transform = T.Compose(transform)                            # Composes the above transformations into one.\n",
        "\n",
        "#   train_transforms = T.Compose([T.Resize((64, 128)),\n",
        "#                                          T.RandomCrop((50, 100)),\n",
        "#                                          T.ToTensor(),\n",
        "#                                          T.Normalize(mean=[0.485, 0.456, 0.406],\n",
        "#                                                               std=[0.229, 0.224, 0.225]) \n",
        "#                                        ])\n",
        "\n",
        "#   test_transforms = T.Compose([T.Resize((64, 128)),\n",
        "#                                         T.ToTensor(),\n",
        "#                                         T.Normalize(mean=[0.485, 0.456, 0.406],\n",
        "#                                                              std=[0.229, 0.224, 0.225])\n",
        "#                                       ])\n",
        "\n",
        "#   # Load data\n",
        "#   elisa_train = torchvision.datasets.ImageFolder(root=train_loc, transform=train_transforms)\n",
        "#   elisa_test = torchvision.datasets.ImageFolder(root=test_loc, transform=test_transforms)\n",
        "  \n",
        "#   # Create train and test splits\n",
        "#   # We will create a 80:20 % train:test split\n",
        "#   # num_samples = len(elisa_dataset)\n",
        "#   # training_samples = int(num_samples * 0.8 + 1)\n",
        "#   # test_samples = num_samples - training_samples\n",
        "\n",
        "#   # training_data, test_data = torch.utils.data.random_split(elisa_dataset, \n",
        "#   #                                                          [training_samples, test_samples])\n",
        "\n",
        "#   # Initialize dataloaders\n",
        "#   train_loader = torch.utils.data.DataLoader(elisa_train, batch_size, shuffle=True)\n",
        "#   test_loader = torch.utils.data.DataLoader(elisa_test, batch_size, shuffle=False)\n",
        "  \n",
        "#   return train_loader, test_loader\n",
        "\n",
        "# trainloader, testloader = get_data(128, '/content/gdrive/MyDrive/dataset_elisa', \n",
        "#                                    '/content/gdrive/MyDrive/dataset_elisa/train', \n",
        "#                                    '/content/gdrive/MyDrive/dataset_elisa/test', \n",
        "#                                    '/content/gdrive/MyDrive/dataset_elisa/attribute')\n",
        "# print(trainloader.dataset.classes)\n"
      ],
      "execution_count": null,
      "outputs": []
    },
    {
      "cell_type": "code",
      "metadata": {
        "id": "sH7mqOAOR62v"
      },
      "source": [
        "import numpy as np\n",
        "\n",
        "df = pd.read_csv('/content/gdrive/MyDrive/dataset_elisa/attribute/annotations_train.csv')\n",
        "tmp = df.iloc[df.index[df['id'] == 474], 1:]\n",
        "\n",
        "# print(tmp)\n",
        "# print(df.columns.get_loc('upblack'))\n",
        "# print(df.columns.get_loc('upgreen'))\n",
        "\n",
        "#add the two new categories to the dataset labels\n",
        "\n",
        "df = df.assign(upmulticolor=pd.Series(np.ones(len(df.index), dtype=int)))\n",
        "df = df.assign(downmulticolor=pd.Series(np.ones(len(df.index), dtype=int)))\n",
        "\n",
        "for x in range(len(df.index)):\n",
        "  a = True\n",
        "  for y in range(df.columns.get_loc('upblack'), df.columns.get_loc('upgreen')+1):\n",
        "    if df.iloc[x, y] == 2:\n",
        "      a = False\n",
        "  if a:\n",
        "    df.at[x, 'upmulticolor'] = 2\n",
        "  \n",
        "  a = True\n",
        "  for y in range(df.columns.get_loc('downblack'), df.columns.get_loc('downbrown')+1):\n",
        "    if df.iloc[x, y] == 2:\n",
        "      a = False\n",
        "  if a:\n",
        "    df.at[x, 'downmulticolor'] = 2\n",
        "\n",
        "# save the new dataset\n",
        "\n",
        "df.to_csv('/content/gdrive/MyDrive/dataset_elisa/attribute/annotations_train_new.csv', index=False)\n",
        "\n",
        "\n",
        "# print to check the upmulticolor \n",
        "\n",
        "# for x in range(len(df.index)):\n",
        "#  if df.at[x, 'upmulticolor'] == 2:\n",
        "#    print(df.iloc[x, 11:])"
      ],
      "execution_count": null,
      "outputs": []
    },
    {
      "cell_type": "code",
      "metadata": {
        "id": "GS0vJtO9SCAo"
      },
      "source": [
        ""
      ],
      "execution_count": null,
      "outputs": []
    },
    {
      "cell_type": "code",
      "metadata": {
        "id": "WbVcWYupo00b"
      },
      "source": [
        "class ElyImageDataset(Dataset):\n",
        "    def __init__(self, annotations_file, img_dir, transform=None, target_transform=None):\n",
        "        self.img_labels = pd.read_csv(annotations_file)\n",
        "        self.img_dir = img_dir\n",
        "\n",
        "        self.imgs = os.listdir(img_dir)\n",
        "        self.img_list = self.imgs\n",
        "\n",
        "        self.imgs = [el for el in self.imgs if os.path.splitext(el)[1] == '.jpg']\n",
        "        self.lb_ids = [int(el.split('_')[0]) for el in self.imgs]\n",
        "        self.lb_cams = [int(el.split('_')[1][1]) for el in self.imgs]\n",
        "        self.imgs = [os.path.join(img_dir, el) for el in self.imgs]\n",
        "\n",
        "        self.transform = transform\n",
        "        self.target_transform = target_transform\n",
        "\n",
        "    def __len__(self):\n",
        "        return len(self.img_labels)\n",
        "\n",
        "    def __getitem__(self, idx):\n",
        "        img_path = os.path.join(self.img_dir, self.img_list[idx])\n",
        "        image = read_image(img_path)\n",
        "        id = self.lb_ids[idx]\n",
        "\n",
        "        label = torch.tensor(self.img_labels.iloc[self.img_labels.index[self.img_labels['id'] == self.lb_ids[idx]], 1:].values)\n",
        "        if self.transform:\n",
        "            image = self.transform(image)\n",
        "        if self.target_transform:\n",
        "            label = self.target_transform(label)\n",
        "        return image, id, label\n",
        "\n"
      ],
      "execution_count": null,
      "outputs": []
    },
    {
      "cell_type": "code",
      "metadata": {
        "id": "9YPUJWDuQTmX"
      },
      "source": [
        "training_data = ElyImageDataset('/content/gdrive/MyDrive/dataset_elisa/attribute/annotations_train_new.csv', '/content/gdrive/MyDrive/dataset_elisa/train/')   \n",
        "#test_data = ElyImageDataset('/content/gdrive/MyDrive/dataset_elisa/attribute/annotations_train_new.csv', '/content/gdrive/MyDrive/dataset_elisa/test/')     \n",
        "train_dataloader = DataLoader(training_data, batch_size=64, shuffle=True)\n",
        "#test_dataloader = DataLoader(test_data, batch_size=64, shuffle=False)"
      ],
      "execution_count": null,
      "outputs": []
    },
    {
      "cell_type": "markdown",
      "metadata": {
        "id": "gOAoU17ip6pS"
      },
      "source": [
        "## Define AlexNet model"
      ]
    },
    {
      "cell_type": "code",
      "metadata": {
        "id": "DB9zwXXBp6XK"
      },
      "source": [
        "'''\n",
        "Input arguments\n",
        "  num_classes: number of classes in the dataset.  Here 27\n",
        "               This is equal to the number of output neurons.\n",
        "'''\n",
        "\n",
        "def initialize_alexnet(num_classes):\n",
        "  # load the pre-trained Alexnet\n",
        "  alexnet = torchvision.models.alexnet(pretrained=True)\n",
        "  \n",
        "  # get the number of neurons in the penultimate layer\n",
        "  in_features = alexnet.classifier[6].in_features\n",
        "  \n",
        "  # re-initalize the output layer\n",
        "  alexnet.classifier[6] = torch.nn.Linear(in_features=in_features, \n",
        "                                          out_features=num_classes)\n",
        "  \n",
        "  return alexnet"
      ],
      "execution_count": null,
      "outputs": []
    },
    {
      "cell_type": "code",
      "metadata": {
        "colab": {
          "base_uri": "https://localhost:8080/",
          "height": 611,
          "referenced_widgets": [
            "b68f6dceaf13450a916d56c55be383bc",
            "850358e6842241b8906744efc6325775",
            "84c7fa266adc442589206ba72f268665",
            "972af681f17c43cebe1024971daf080e",
            "ea4b71761e3d45739eb4345409ae2ada",
            "043255c6d1f641e0a82bf1abcdf0cf4f",
            "1fc0d8914e2140969e4b547fd241b95e",
            "be39feef46f24a42988f3c385aeb9d4f"
          ]
        },
        "id": "eNwa_kBnqISU",
        "outputId": "4e7c8bed-7ddb-4d94-8d9f-e1294058e704"
      },
      "source": [
        "print(initialize_alexnet(65))"
      ],
      "execution_count": null,
      "outputs": [
        {
          "output_type": "stream",
          "text": [
            "Downloading: \"https://download.pytorch.org/models/alexnet-owt-7be5be79.pth\" to /root/.cache/torch/hub/checkpoints/alexnet-owt-7be5be79.pth\n"
          ],
          "name": "stderr"
        },
        {
          "output_type": "display_data",
          "data": {
            "application/vnd.jupyter.widget-view+json": {
              "model_id": "b68f6dceaf13450a916d56c55be383bc",
              "version_minor": 0,
              "version_major": 2
            },
            "text/plain": [
              "HBox(children=(FloatProgress(value=0.0, max=244408911.0), HTML(value='')))"
            ]
          },
          "metadata": {
            "tags": []
          }
        },
        {
          "output_type": "stream",
          "text": [
            "\n",
            "AlexNet(\n",
            "  (features): Sequential(\n",
            "    (0): Conv2d(3, 64, kernel_size=(11, 11), stride=(4, 4), padding=(2, 2))\n",
            "    (1): ReLU(inplace=True)\n",
            "    (2): MaxPool2d(kernel_size=3, stride=2, padding=0, dilation=1, ceil_mode=False)\n",
            "    (3): Conv2d(64, 192, kernel_size=(5, 5), stride=(1, 1), padding=(2, 2))\n",
            "    (4): ReLU(inplace=True)\n",
            "    (5): MaxPool2d(kernel_size=3, stride=2, padding=0, dilation=1, ceil_mode=False)\n",
            "    (6): Conv2d(192, 384, kernel_size=(3, 3), stride=(1, 1), padding=(1, 1))\n",
            "    (7): ReLU(inplace=True)\n",
            "    (8): Conv2d(384, 256, kernel_size=(3, 3), stride=(1, 1), padding=(1, 1))\n",
            "    (9): ReLU(inplace=True)\n",
            "    (10): Conv2d(256, 256, kernel_size=(3, 3), stride=(1, 1), padding=(1, 1))\n",
            "    (11): ReLU(inplace=True)\n",
            "    (12): MaxPool2d(kernel_size=3, stride=2, padding=0, dilation=1, ceil_mode=False)\n",
            "  )\n",
            "  (avgpool): AdaptiveAvgPool2d(output_size=(6, 6))\n",
            "  (classifier): Sequential(\n",
            "    (0): Dropout(p=0.5, inplace=False)\n",
            "    (1): Linear(in_features=9216, out_features=4096, bias=True)\n",
            "    (2): ReLU(inplace=True)\n",
            "    (3): Dropout(p=0.5, inplace=False)\n",
            "    (4): Linear(in_features=4096, out_features=4096, bias=True)\n",
            "    (5): ReLU(inplace=True)\n",
            "    (6): Linear(in_features=4096, out_features=65, bias=True)\n",
            "  )\n",
            ")\n"
          ],
          "name": "stdout"
        }
      ]
    },
    {
      "cell_type": "markdown",
      "metadata": {
        "id": "mRbxPh8iqSmC"
      },
      "source": [
        "## Cost function"
      ]
    },
    {
      "cell_type": "code",
      "metadata": {
        "id": "jfZr77gbqSDt"
      },
      "source": [
        "def get_cost_function():\n",
        "  cost_function = torch.nn.CrossEntropyLoss()\n",
        "  return cost_function"
      ],
      "execution_count": null,
      "outputs": []
    },
    {
      "cell_type": "markdown",
      "metadata": {
        "id": "1dA87iZqqWo7"
      },
      "source": [
        "## Optimizer"
      ]
    },
    {
      "cell_type": "code",
      "metadata": {
        "id": "czar42aLqX6D"
      },
      "source": [
        "def get_optimizer(model, lr, wd, momentum):\n",
        "  \n",
        "  # we will create two groups of weights, one for the newly initialized layer\n",
        "  # and the other for rest of the layers of the network\n",
        "  \n",
        "  final_layer_weights = []\n",
        "  rest_of_the_net_weights = []\n",
        "  \n",
        "  # we will iterate through the layers of the network\n",
        "  for name, param in model.named_parameters():\n",
        "    if name.startswith('classifier.6'):\n",
        "      final_layer_weights.append(param)\n",
        "    else:\n",
        "      rest_of_the_net_weights.append(param)\n",
        "  \n",
        "  # so now we have divided the network weights into two groups.\n",
        "  # We will train the final_layer_weights with learning_rate = lr\n",
        "  # and rest_of_the_net_weights with learning_rate = lr / 10\n",
        "  \n",
        "  optimizer = torch.optim.SGD([\n",
        "      {'params': rest_of_the_net_weights},\n",
        "      {'params': final_layer_weights, 'lr': lr}\n",
        "  ], lr=lr / 10, weight_decay=wd, momentum=momentum)\n",
        "  \n",
        "  return optimizer"
      ],
      "execution_count": null,
      "outputs": []
    },
    {
      "cell_type": "markdown",
      "metadata": {
        "id": "hh_LbIj4qgrK"
      },
      "source": [
        "## Train and test functions"
      ]
    },
    {
      "cell_type": "code",
      "metadata": {
        "id": "wWSpIiX7qiga"
      },
      "source": [
        "def test(net, data_loader, cost_function, device='cuda:0'):\n",
        "  samples = 0.\n",
        "  cumulative_loss = 0.\n",
        "  cumulative_accuracy = 0.\n",
        "\n",
        "  net.eval() # Strictly needed if network contains layers which has different behaviours between train and test\n",
        "  with torch.no_grad():\n",
        "    for batch_idx, (inputs, targets) in enumerate(data_loader):\n",
        "      # Load data into GPU\n",
        "      inputs = inputs.to(device)\n",
        "      targets = targets.to(device)\n",
        "        \n",
        "      # Forward pass\n",
        "      outputs = net(inputs)\n",
        "\n",
        "      # Apply the loss\n",
        "      loss = cost_function(outputs, targets)\n",
        "\n",
        "      # Better print something\n",
        "      samples += inputs.shape[0]\n",
        "      cumulative_loss += loss.item() # Note: the .item() is needed to extract scalars from tensors\n",
        "      _, predicted = outputs.max(1)\n",
        "      cumulative_accuracy += predicted.eq(targets).sum().item()\n",
        "\n",
        "  return cumulative_loss / samples, cumulative_accuracy / samples * 100\n",
        "\n",
        "\n",
        "def train(net,data_loader,optimizer,cost_function, device='cuda:0'):\n",
        "  samples = 0.\n",
        "  cumulative_loss = 0.\n",
        "  cumulative_accuracy = 0.\n",
        "\n",
        "  \n",
        "  net.train() # Strictly needed if network contains layers which has different behaviours between train and test\n",
        "  for batch_idx, (inputs, targets) in enumerate(data_loader):\n",
        "    # Load data into GPU\n",
        "    inputs = inputs.to(device)\n",
        "    targets = targets.to(device)\n",
        "      \n",
        "    # Forward pass\n",
        "    outputs = net(inputs)\n",
        "\n",
        "    # Apply the loss\n",
        "    loss = cost_function(outputs,targets)\n",
        "      \n",
        "    # Backward pass\n",
        "    loss.backward()\n",
        "    \n",
        "    # Update parameters\n",
        "    optimizer.step()\n",
        "    \n",
        "    # Resets the gradients\n",
        "    optimizer.zero_grad()\n",
        "\n",
        "    # Better print something, no?\n",
        "    samples+=inputs.shape[0]\n",
        "    cumulative_loss += loss.item()\n",
        "    _, predicted = outputs.max(1)\n",
        "    cumulative_accuracy += predicted.eq(targets).sum().item()\n",
        "\n",
        "  return cumulative_loss/samples, cumulative_accuracy/samples*100"
      ],
      "execution_count": null,
      "outputs": []
    },
    {
      "cell_type": "markdown",
      "metadata": {
        "id": "ezTLZnPbqsZq"
      },
      "source": [
        "## Wrapping everything up"
      ]
    },
    {
      "cell_type": "code",
      "metadata": {
        "id": "YfI2JnbhquZU"
      },
      "source": [
        "'''\n",
        "Input arguments\n",
        "  batch_size: Size of a mini-batch\n",
        "  device: GPU where you want to train your network\n",
        "  weight_decay: Weight decay co-efficient for regularization of weights\n",
        "  momentum: Momentum for SGD optimizer\n",
        "  epochs: Number of epochs for training the network\n",
        "  num_classes: Number of classes in your dataset\n",
        "  visualization_name: Name of the visualization folder\n",
        "  img_root: The root folder of images\n",
        "'''\n",
        "\n",
        "def main(batch_size=128, \n",
        "         device='cuda:0', \n",
        "         learning_rate=0.001, \n",
        "         weight_decay=0.000001, \n",
        "         momentum=0.9, \n",
        "         epochs=50, \n",
        "         num_classes=27, \n",
        "         visualization_name='alexnet_sgd', \n",
        "         img_root=None:    #'/content/gdrive/MyDrive/elisa_dataset/train'):\n",
        "  \n",
        "  writer = SummaryWriter(log_dir=\"runs/exp1\")\n",
        "\n",
        "  # Instantiates dataloaders\n",
        "  train_loader, test_loader = get_data(batch_size, img_root, train_loc, test_loc, ann_loc) #get_data(batch_size=batch_size, img_root=img_root)\n",
        "  \n",
        "  # Instantiates the model\n",
        "  net = initialize_alexnet(num_classes=num_classes).to(device)\n",
        "  \n",
        "  # Instantiates the optimizer\n",
        "  optimizer = get_optimizer(net, learning_rate, weight_decay, momentum)\n",
        "  \n",
        "  # Instantiates the cost function\n",
        "  cost_function = get_cost_function()\n",
        "\n",
        "  print('Before training:')\n",
        "  train_loss, train_accuracy = test(net, train_loader, cost_function)\n",
        "  test_loss, test_accuracy = test(net, test_loader, cost_function)\n",
        "\n",
        "  print('\\t Training loss {:.5f}, Training accuracy {:.2f}'.format(train_loss, train_accuracy))\n",
        "  print('\\t Test loss {:.5f}, Test accuracy {:.2f}'.format(test_loss, test_accuracy))\n",
        "  print('-----------------------------------------------------')\n",
        "  \n",
        "  # Add values to plots\n",
        "  writer.add_scalar('Loss/train_loss', train_loss, 0)\n",
        "  writer.add_scalar('Loss/test_loss', test_loss, 0)\n",
        "  writer.add_scalar('Accuracy/train_accuracy', train_accuracy, 0)\n",
        "  writer.add_scalar('Accuracy/test_accuracy', test_accuracy, 0)\n",
        "\n",
        "  for e in range(epochs):\n",
        "    train_loss, train_accuracy = train(net, train_loader, optimizer, cost_function)\n",
        "    test_loss, test_accuracy = test(net, test_loader, cost_function)\n",
        "    print('Epoch: {:d}'.format(e+1))\n",
        "    print('\\t Training loss {:.5f}, Training accuracy {:.2f}'.format(train_loss, train_accuracy))\n",
        "    print('\\t Test loss {:.5f}, Test accuracy {:.2f}'.format(test_loss, test_accuracy))\n",
        "    print('-----------------------------------------------------')\n",
        "    \n",
        "    # Add values to plots\n",
        "    writer.add_scalar('Loss/train_loss', train_loss, e + 1)\n",
        "    writer.add_scalar('Loss/test_loss', test_loss, e + 1)\n",
        "    writer.add_scalar('Accuracy/train_accuracy', train_accuracy, e + 1)\n",
        "    writer.add_scalar('Accuracy/test_accuracy', test_accuracy, e + 1)\n",
        "\n",
        "  print('After training:')\n",
        "  train_loss, train_accuracy = test(net, train_loader, cost_function)\n",
        "  test_loss, test_accuracy = test(net, test_loader, cost_function)\n",
        "\n",
        "  print('\\t Training loss {:.5f}, Training accuracy {:.2f}'.format(train_loss, train_accuracy))\n",
        "  print('\\t Test loss {:.5f}, Test accuracy {:.2f}'.format(test_loss, test_accuracy))\n",
        "  print('-----------------------------------------------------')\n",
        "\n",
        "  # Closes the logger\n",
        "  writer.close()"
      ],
      "execution_count": null,
      "outputs": []
    },
    {
      "cell_type": "markdown",
      "metadata": {
        "id": "2kVpMx7drMDs"
      },
      "source": [
        "## Let's train!"
      ]
    },
    {
      "cell_type": "code",
      "metadata": {
        "id": "gMfvQFWprNmL"
      },
      "source": [
        "! rm -r runs"
      ],
      "execution_count": null,
      "outputs": []
    },
    {
      "cell_type": "code",
      "metadata": {
        "id": "hzoPaApsrRkz"
      },
      "source": [
        "%load_ext tensorboard\n",
        "%tensorboard --logdir=runs"
      ],
      "execution_count": null,
      "outputs": []
    },
    {
      "cell_type": "code",
      "metadata": {
        "id": "DxKx1uEGrVjE"
      },
      "source": [
        "main(visualization_name='alexnet_sgd_0.01_RW', img_root = '/content/gdrive/MyDrive/dataset_elisa/train')"
      ],
      "execution_count": null,
      "outputs": []
    }
  ]
}